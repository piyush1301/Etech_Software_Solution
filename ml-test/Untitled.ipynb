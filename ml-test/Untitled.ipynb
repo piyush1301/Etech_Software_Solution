{
 "cells": [
  {
   "cell_type": "markdown",
   "metadata": {},
   "source": [
    "<body bgcolor=\"#E6E6FA\">\n",
    "  <div>  <img src=\"https://netbramha.com/wp-content/uploads/2016/12/senior-front-end-developer-openings-1.gif\" align=left width=300px height=300px><h1>&nbsp;&nbsp;&nbsp;&nbsp; Python <br> &nbsp;&nbsp;&nbsp;&nbsp; Etech Global Services <br> &nbsp;&nbsp;&nbsp;&nbsp; NTLK Chat Analysis File </h1><img src='' align=right width=200px height=100px>\n",
    "</div>"
   ]
  },
  {
   "cell_type": "code",
   "execution_count": null,
   "metadata": {},
   "outputs": [],
   "source": []
  }
 ],
 "metadata": {
  "kernelspec": {
   "display_name": "Python 3",
   "language": "python",
   "name": "python3"
  },
  "language_info": {
   "codemirror_mode": {
    "name": "ipython",
    "version": 3
   },
   "file_extension": ".py",
   "mimetype": "text/x-python",
   "name": "python",
   "nbconvert_exporter": "python",
   "pygments_lexer": "ipython3",
   "version": "3.6.6"
  }
 },
 "nbformat": 4,
 "nbformat_minor": 2
}
